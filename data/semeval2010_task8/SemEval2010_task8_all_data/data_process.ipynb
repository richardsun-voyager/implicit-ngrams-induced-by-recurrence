{
 "cells": [
  {
   "cell_type": "code",
   "execution_count": 108,
   "metadata": {},
   "outputs": [],
   "source": [
    "train_file ='SemEval2010_task8_training/TRAIN_FILE.TXT'\n",
    "test_file = 'SemEval2010_task8_testing_keys/TEST_FILE_FULL.TXT'\n",
    "with open(train_file) as f:\n",
    "    lines = f.readlines()\n",
    "    num = len(lines)\n",
    "    sents = []\n",
    "    labels = []\n",
    "    comments = []\n",
    "    for i in range(num//4):\n",
    "        sent = lines[i*4].split('\\t')[1].strip().strip('\"')\n",
    "        sent = sent.replace('>', '> ').replace('<', ' <').replace('.', ' .')\n",
    "        sents.append(sent)\n",
    "        label = lines[i*4+1].strip()\n",
    "        labels.append(label)\n",
    "        comment = lines[i*4+2].strip()\n",
    "        comments.append(comment)\n",
    "            "
   ]
  },
  {
   "cell_type": "code",
   "execution_count": 109,
   "metadata": {},
   "outputs": [],
   "source": [
    "label_dict = {'Message-Topic(e1,e2)': 0,\n",
    " 'Product-Producer(e2,e1)': 1,\n",
    " 'Instrument-Agency(e2,e1)': 2,\n",
    " 'Entity-Destination(e1,e2)': 3,\n",
    " 'Cause-Effect(e2,e1)': 4,\n",
    " 'Component-Whole(e1,e2)': 5,\n",
    " 'Product-Producer(e1,e2)': 6,\n",
    " 'Member-Collection(e2,e1)': 7,\n",
    " 'Other': 8,\n",
    " 'Entity-Origin(e1,e2)': 9,\n",
    " 'Content-Container(e1,e2)': 10,\n",
    " 'Entity-Origin(e2,e1)': 11,\n",
    " 'Cause-Effect(e1,e2)': 12,\n",
    " 'Component-Whole(e2,e1)': 13,\n",
    " 'Content-Container(e2,e1)': 14,\n",
    " 'Instrument-Agency(e1,e2)': 15,\n",
    " 'Message-Topic(e2,e1)': 16,\n",
    " 'Member-Collection(e1,e2)': 17,\n",
    " 'Entity-Destination(e2,e1)': 18}"
   ]
  },
  {
   "cell_type": "code",
   "execution_count": 110,
   "metadata": {},
   "outputs": [],
   "source": [
    "import pandas as pd\n",
    "data = {'text':sents, 'label':labels, 'comment':comments}\n",
    "data = pd.DataFrame(data)"
   ]
  },
  {
   "cell_type": "code",
   "execution_count": 111,
   "metadata": {},
   "outputs": [],
   "source": [
    "data.label = data.label.map(label_dict)"
   ]
  },
  {
   "cell_type": "code",
   "execution_count": 112,
   "metadata": {},
   "outputs": [],
   "source": [
    "train_data = data.sample(frac=1).reset_index(drop=True)"
   ]
  },
  {
   "cell_type": "code",
   "execution_count": 115,
   "metadata": {},
   "outputs": [],
   "source": [
    "valid_data = train_data.iloc[7000:, :]\n",
    "train_data = train_data.iloc[:7000, :]"
   ]
  },
  {
   "cell_type": "code",
   "execution_count": 116,
   "metadata": {},
   "outputs": [],
   "source": [
    "valid_data.to_csv('semeval2010_8_valid.csv', index=False)\n",
    "train_data.to_csv('semeval2010_8_train.csv', index=False)"
   ]
  },
  {
   "cell_type": "code",
   "execution_count": 107,
   "metadata": {},
   "outputs": [],
   "source": [
    "data.to_csv('semeval2010_8_test.csv', index=False)"
   ]
  },
  {
   "cell_type": "code",
   "execution_count": 89,
   "metadata": {},
   "outputs": [],
   "source": [
    "#label_dict = {l:i for i, l in enumerate(data.label.unique())}"
   ]
  },
  {
   "cell_type": "code",
   "execution_count": 90,
   "metadata": {},
   "outputs": [
    {
     "data": {
      "text/plain": [
       "count    8000.000000\n",
       "mean        4.696875\n",
       "std         2.667561\n",
       "min         0.000000\n",
       "25%         3.000000\n",
       "50%         5.000000\n",
       "75%         7.000000\n",
       "max         9.000000\n",
       "Name: label, dtype: float64"
      ]
     },
     "execution_count": 90,
     "metadata": {},
     "output_type": "execute_result"
    }
   ],
   "source": [
    "data.label.describe()"
   ]
  },
  {
   "cell_type": "code",
   "execution_count": 91,
   "metadata": {},
   "outputs": [
    {
     "data": {
      "text/plain": [
       "['The',\n",
       " 'system',\n",
       " 'as',\n",
       " 'described',\n",
       " 'above',\n",
       " 'has',\n",
       " 'its',\n",
       " 'greatest',\n",
       " 'application',\n",
       " 'in',\n",
       " 'an',\n",
       " 'arrayed',\n",
       " '<e1>',\n",
       " 'configuration',\n",
       " '</e1>',\n",
       " 'of',\n",
       " 'antenna',\n",
       " '<e2>',\n",
       " 'elements',\n",
       " '</e2>',\n",
       " '.']"
      ]
     },
     "execution_count": 91,
     "metadata": {},
     "output_type": "execute_result"
    }
   ],
   "source": [
    "data.text.values[0].split()"
   ]
  },
  {
   "cell_type": "code",
   "execution_count": null,
   "metadata": {},
   "outputs": [],
   "source": []
  }
 ],
 "metadata": {
  "kernelspec": {
   "display_name": "Python 3",
   "language": "python",
   "name": "python3"
  },
  "language_info": {
   "codemirror_mode": {
    "name": "ipython",
    "version": 3
   },
   "file_extension": ".py",
   "mimetype": "text/x-python",
   "name": "python",
   "nbconvert_exporter": "python",
   "pygments_lexer": "ipython3",
   "version": "3.7.4"
  }
 },
 "nbformat": 4,
 "nbformat_minor": 2
}
