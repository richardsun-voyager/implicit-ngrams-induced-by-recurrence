{
 "cells": [
  {
   "cell_type": "code",
   "execution_count": 13,
   "metadata": {},
   "outputs": [],
   "source": [
    "import json\n",
    " \n",
    "# Opening JSON file\n",
    "sents = []\n",
    "labels = []\n",
    "with open('test.jsonl') as f:\n",
    "    for line in f:\n",
    "        item = json.loads(line)\n",
    "        sent = item['tokens']\n",
    "        labels.append(item['label'])\n",
    "        entities = item['entities']\n",
    "        pos0 = entities[0]\n",
    "        pos1 = entities[1]\n",
    "    "
   ]
  },
  {
   "cell_type": "code",
   "execution_count": 12,
   "metadata": {},
   "outputs": [
    {
     "data": {
      "text/plain": [
       "{'id': '10717',\n",
       " 'tokens': ['A',\n",
       "  'few',\n",
       "  'days',\n",
       "  'before',\n",
       "  'the',\n",
       "  'service',\n",
       "  ',',\n",
       "  'Tom',\n",
       "  'Burris',\n",
       "  'had',\n",
       "  'thrown',\n",
       "  'into',\n",
       "  'Karen',\n",
       "  \"'\",\n",
       "  's',\n",
       "  'casket',\n",
       "  'his',\n",
       "  'wedding',\n",
       "  'ring',\n",
       "  '.'],\n",
       " 'label': 'Entity-Destination(e2,e1)',\n",
       " 'entities': [[15, 16], [18, 19]]}"
      ]
     },
     "execution_count": 12,
     "metadata": {},
     "output_type": "execute_result"
    }
   ],
   "source": [
    "item"
   ]
  },
  {
   "cell_type": "code",
   "execution_count": null,
   "metadata": {},
   "outputs": [],
   "source": []
  }
 ],
 "metadata": {
  "kernelspec": {
   "display_name": "Python 3",
   "language": "python",
   "name": "python3"
  },
  "language_info": {
   "codemirror_mode": {
    "name": "ipython",
    "version": 3
   },
   "file_extension": ".py",
   "mimetype": "text/x-python",
   "name": "python",
   "nbconvert_exporter": "python",
   "pygments_lexer": "ipython3",
   "version": "3.7.4"
  }
 },
 "nbformat": 4,
 "nbformat_minor": 2
}
