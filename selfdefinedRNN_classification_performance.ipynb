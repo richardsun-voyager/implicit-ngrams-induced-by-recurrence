{
 "cells": [
  {
   "cell_type": "markdown",
   "metadata": {
    "colab_type": "text",
    "id": "gX6rKfD8CyNH"
   },
   "source": [
    "## Load processed data"
   ]
  },
  {
   "cell_type": "code",
   "execution_count": 1,
   "metadata": {
    "colab": {
     "base_uri": "https://localhost:8080/",
     "height": 51
    },
    "colab_type": "code",
    "executionInfo": {
     "elapsed": 1021,
     "status": "ok",
     "timestamp": 1596873868610,
     "user": {
      "displayName": "Richard Sun",
      "photoUrl": "",
      "userId": "07723018862498440951"
     },
     "user_tz": -480
    },
    "id": "1-AwwneWTY-F",
    "outputId": "1410042b-546c-4fe3-8cbd-2a7e904e7de1"
   },
   "outputs": [],
   "source": [
    "%load_ext autoreload\n",
    "%autoreload 2"
   ]
  },
  {
   "cell_type": "code",
   "execution_count": 2,
   "metadata": {
    "colab": {
     "base_uri": "https://localhost:8080/",
     "height": 71
    },
    "colab_type": "code",
    "executionInfo": {
     "elapsed": 5379,
     "status": "ok",
     "timestamp": 1597469728944,
     "user": {
      "displayName": "Richard Sun",
      "photoUrl": "",
      "userId": "07723018862498440951"
     },
     "user_tz": -480
    },
    "id": "ejldGJAGCyNJ",
    "outputId": "0cd2e0db-307a-4b92-b274-81b902190009"
   },
   "outputs": [],
   "source": [
    "import yaml\n",
    "import numpy as np\n",
    "import torch\n",
    "from collections import Counter\n",
    "from torch import nn\n",
    "from torchtext import data\n",
    "from matplotlib import pyplot as plt\n",
    "import seaborn as sns\n",
    "import torch.nn.functional as F\n",
    "%matplotlib inline\n",
    "import copy\n",
    "import argparse\n",
    "from helper import data_generator\n",
    "import sys; sys.argv=['']; del sys\n",
    "device = torch.device(\"cuda\") if torch.cuda.is_available() else torch.device(\"cpu\")\n",
    "file = 'args/sst_attn_all.yaml'\n",
    "# file = 'args/IMDB_rnn.yaml'\n",
    "# file ='args/mr_rnn.yaml'\n",
    "with open(file) as f:\n",
    "    args = yaml.load(f, Loader=yaml.Loader)\n",
    "    parser = argparse.ArgumentParser(description='attention')\n",
    "    config = parser.parse_args()\n",
    "    for k, v in args['common'].items():\n",
    "        setattr(config, k, v)"
   ]
  },
  {
   "cell_type": "code",
   "execution_count": 3,
   "metadata": {},
   "outputs": [],
   "source": [
    "import pickle\n",
    "with open(config.dic_path, 'rb') as f:\n",
    "    vocab, word2id, id2word = pickle.load(f)"
   ]
  },
  {
   "cell_type": "code",
   "execution_count": 4,
   "metadata": {},
   "outputs": [],
   "source": [
    "# config.batch_size = 512#for mr\n",
    "# config.batch_size = 256#for imdb\n",
    "config.batch_size = 1024#for sst"
   ]
  },
  {
   "cell_type": "code",
   "execution_count": 5,
   "metadata": {},
   "outputs": [],
   "source": [
    "train_dg = data_generator(config, config.train_path)#training data\n",
    "dev_dg = data_generator(config, config.dev_path, False)#dev data\n",
    "test_dg = data_generator(config, config.test_path, False)#test data"
   ]
  },
  {
   "cell_type": "markdown",
   "metadata": {},
   "source": [
    "## Train a model"
   ]
  },
  {
   "cell_type": "code",
   "execution_count": 8,
   "metadata": {
    "colab": {},
    "colab_type": "code",
    "executionInfo": {
     "elapsed": 2065,
     "status": "ok",
     "timestamp": 1597469731628,
     "user": {
      "displayName": "Richard Sun",
      "photoUrl": "",
      "userId": "07723018862498440951"
     },
     "user_tz": -480
    },
    "id": "DsDOEdpkCyNc"
   },
   "outputs": [],
   "source": [
    "from torch.nn import utils as nn_utils\n",
    "import torch\n",
    "from torch import optim\n",
    "import pickle\n",
    "import numpy as np\n",
    "import torch.nn as nn\n",
    "import torch.nn.functional as F\n",
    "import torch.optim as optim\n",
    "from torch.autograd import Variable\n",
    "import torch.nn.init as init\n",
    "from self_defined_gru_no_combination import GRU as MVM_G\n",
    "from self_defined_lstm_no_combination import LSTM as MVM_L\n",
    "from self_defined_rnn_no_combination import RNN as MVM_E\n",
    "from self_defined_gru_linear import GRU as MVMA_G\n",
    "from self_defined_lstm_linear import LSTM as MVMA_L\n",
    "from self_defined_rnn_linear import RNN as MVMA_E\n",
    "\n",
    "\n",
    "# from dynamic_lstm import dynamicLSTM\n",
    "# from dynamic_gru import dynamicGRU\n",
    "# from dynamic_rnn import dynamicRNN\n",
    "from torch.nn import TransformerEncoder, TransformerEncoderLayer  "
   ]
  },
  {
   "cell_type": "code",
   "execution_count": 9,
   "metadata": {},
   "outputs": [],
   "source": [
    "import math\n",
    "class PositionalEncoding(nn.Module):\n",
    "\n",
    "    def __init__(self, d_model, dropout=0.1, max_len=5000, trainable=False):\n",
    "        super(PositionalEncoding, self).__init__()\n",
    "        self.dropout = nn.Dropout(p=dropout)\n",
    "        if trainable:\n",
    "            pe = nn.Parameter(torch.randn(max_len, d_model).uniform_(-0.1, 0.1))\n",
    "        else:\n",
    "            pe = torch.zeros(max_len, d_model)\n",
    "            position = torch.arange(0, max_len, dtype=torch.float).unsqueeze(1)\n",
    "            div_term = torch.exp(torch.arange(0, d_model, 2).float() * (-math.log(10000.0) / d_model))\n",
    "            pe[:, 0::2] = torch.sin(position * div_term)\n",
    "            pe[:, 1::2] = torch.cos(position * div_term)\n",
    "        self.pe = pe.unsqueeze(0).transpose(0, 1).to(device)\n",
    "        #self.register_buffer('pe', pe)\n",
    "        #print(pe.shape)\n",
    "\n",
    "    def forward(self, x):\n",
    "        x = x + self.pe[:x.size(0), :]\n",
    "        #print(self.pe[:x.size(0), :].shape)\n",
    "        return self.dropout(x)\n",
    "def length_to_mask(length, max_len=None, dtype=None):\n",
    "    \"\"\"length: B.\n",
    "    return B x max_len.\n",
    "    If max_len is None, then max of length will be used.\n",
    "    \"\"\"\n",
    "    assert len(length.shape) == 1, 'Length shape should be 1 dimensional.'\n",
    "    max_len = max_len or length.max().item()\n",
    "    mask = torch.arange(max_len, device=length.device,\n",
    "                        dtype=length.dtype).expand(len(length), max_len) < length.unsqueeze(1)\n",
    "    if dtype is not None:\n",
    "        mask = torch.as_tensor(mask, dtype=dtype, device=length.device)\n",
    "    return mask"
   ]
  },
  {
   "cell_type": "code",
   "execution_count": 11,
   "metadata": {},
   "outputs": [],
   "source": [
    "class SimpleClassifier(nn.Module):\n",
    "    def __init__(self, vocab_size, embed_dim, hidden_dim, label_dim=1, cell_type='MVMA_G'):\n",
    "        super(SimpleClassifier, self).__init__()\n",
    "        \n",
    "        self.embeddings = nn.Embedding(vocab_size, embed_dim)\n",
    "        #self.embeddings.weight.data.uniform_(-0.05, 0.05)\n",
    "        self.embeddings.weight.data.uniform_(-0.1, 0.1)\n",
    "        self.dropout = nn.Dropout(0.5)\n",
    "        encoder_layer = TransformerEncoderLayer(d_model=embed_dim, nhead=5, \n",
    "                                                dim_feedforward=hidden_dim, dropout=0.1)\n",
    "        \n",
    "\n",
    "        self.affine = nn.Linear(embed_dim, hidden_dim)\n",
    "        self.softmax = nn.Softmax(dim=-1)\n",
    "        self.scale = scale\n",
    "        \n",
    "        self.sigmoid = nn.Sigmoid()\n",
    "        if cell_type == 'MVMA_E':\n",
    "            self.encoder = MVMA_E(embed_dim, hidden_dim, \n",
    "                          bidirectional=False)\n",
    "        elif cell_type == 'MVMA_G':\n",
    "            self.encoder = MVMA_G(embed_dim, hidden_dim, \n",
    "                          bidirectional=False)\n",
    "        elif cell_type == 'MVMA_L':\n",
    "            self.encoder = MVMA_L(embed_dim, hidden_dim, \n",
    "                          bidirectional=False)\n",
    "        elif cell_type == 'transformer':\n",
    "            self.pos_encoder = PositionalEncoding(embed_dim, trainable=False)\n",
    "            self.encoder = TransformerEncoder(encoder_layer, 2)\n",
    "#         self.rnn = RNN(embed_dim, hidden_dim, \n",
    "#                       bidirectional=False)\n",
    "        self.cell_type = cell_type\n",
    "        self.linear = nn.Linear(embed_dim, hidden_dim)\n",
    "        self.label_dim = label_dim\n",
    "\n",
    "        self.decoder = nn.Linear(hidden_dim, label_dim, bias=False)\n",
    "\n",
    "    # batch_size * sent_l * dim\n",
    "    def forward(self, seq_ids, seq_lengths=None):\n",
    "        '''\n",
    "        Args:\n",
    "            seq_ids: word indexes, batch_size, max_len, Long Tensor\n",
    "            seq_lengths: lengths of sentences, batch_size, Long Tensor\n",
    "        attention:\n",
    "            score = v h\n",
    "            att = softmax(score)\n",
    "        '''\n",
    "        \n",
    "        seq_embs = self.embeddings(seq_ids)\n",
    "        seq_embs = self.dropout(seq_embs)\n",
    "        #print(seq_embs.shape)\n",
    "        batch_size, max_len, hidden_dim = seq_embs.size()\n",
    "        # batch * max_len * hidden_states\n",
    "        #hidden_vecs = self.affine(seq_embs)\n",
    "        if self.cell_type != 'transformer':\n",
    "            hidden_vecs, final_vec = self.encoder(seq_embs, seq_lengths)\n",
    "        else:\n",
    "            seq_embs = self.pos_encoder(seq_embs.transpose(0, 1))\n",
    "            src_key_mask = ~length_to_mask(seq_lengths)\n",
    "            hidden_vecs = self.encoder(seq_embs, src_key_padding_mask=src_key_mask.to(device))\n",
    "            hidden_vecs = hidden_vecs.transpose(0, 1)\n",
    "            final_vec = hidden_vecs.mean(1)\n",
    "            \n",
    "        #final_vec = self.linear(seq_embs)\n",
    "        final_vec = self.dropout(final_vec)\n",
    "        senti_scores = self.decoder(final_vec)\n",
    "        #multi class\n",
    "        if self.label_dim == 1:\n",
    "            probs = self.sigmoid(senti_scores)\n",
    "        else:\n",
    "            probs = self.softmax(senti_scores)\n",
    "            logits = torch.log(probs + 0.000000000001)\n",
    "            return logits, senti_scores\n",
    "        return probs, senti_scores"
   ]
  },
  {
   "cell_type": "code",
   "execution_count": 12,
   "metadata": {
    "colab": {},
    "colab_type": "code",
    "executionInfo": {
     "elapsed": 1072,
     "status": "ok",
     "timestamp": 1597469734506,
     "user": {
      "displayName": "Richard Sun",
      "photoUrl": "",
      "userId": "07723018862498440951"
     },
     "user_tz": -480
    },
    "id": "9fTKpWOECyNf"
   },
   "outputs": [],
   "source": [
    "# class SimpleAttnClassifier(nn.Module):\n",
    "#     def __init__(self, vocab_size, embed_dim, hidden_dim, label_dim=1, cell_type='elman'):\n",
    "#         super(SimpleAttnClassifier, self).__init__()\n",
    "        \n",
    "#         self.embeddings = nn.Embedding(vocab_size, embed_dim)\n",
    "#         #self.embeddings.weight.data.uniform_(-0.05, 0.05)\n",
    "#         self.dropout = nn.Dropout(0.5)\n",
    "\n",
    "#         self.affine = nn.Linear(embed_dim, hidden_dim)\n",
    "#         encoder_layer = TransformerEncoderLayer(d_model=embed_dim, nhead=2, \n",
    "#                                                 dim_feedforward=hidden_dim, dropout=0.1)\n",
    "#         self.softmax = nn.Softmax(dim=-1)\n",
    "#         self.scale = 10#np.sqrt(hidden_dim)\n",
    "        \n",
    "#         self.sigmoid = nn.Sigmoid()\n",
    "#         if cell_type == 'elman':\n",
    "#             self.rnn = RNN(embed_dim, hidden_dim//2, \n",
    "#                           bidirectional=True)\n",
    "#         elif cell_type == 'gru':\n",
    "#             self.rnn = GRU(embed_dim, hidden_dim//2, \n",
    "#                           bidirectional=True)\n",
    "#         elif cell_type == 'lstm':\n",
    "#             self.rnn = LSTM(embed_dim, hidden_dim//2, \n",
    "#                           bidirectional=True)\n",
    "#         elif cell_type == 'transformer':\n",
    "#             self.pos_encoder = PositionalEncoding(embed_dim, trainable=False)\n",
    "#             self.encoder = TransformerEncoder(encoder_layer, 1)\n",
    "#         self.cell_type = cell_type\n",
    "#         self.linear = nn.Linear(embed_dim, hidden_dim)\n",
    "#         self.label_dim = label_dim\n",
    "#         self.V = nn.Parameter(torch.randn(hidden_dim, 1))\n",
    "#         self.decoder = nn.Linear(hidden_dim, label_dim, bias=False)\n",
    "\n",
    "#     # batch_size * sent_l * dim\n",
    "#     def forward(self, seq_ids, seq_lengths=None):\n",
    "#         '''\n",
    "#         Args:\n",
    "#             seq_ids: word indexes, batch_size, max_len, Long Tensor\n",
    "#             seq_lengths: lengths of sentences, batch_size, Long Tensor\n",
    "#         attention:\n",
    "#             score = v h\n",
    "#             att = softmax(score)\n",
    "#         '''\n",
    "        \n",
    "#         seq_embs = self.embeddings(seq_ids)\n",
    "#         seq_embs = self.dropout(seq_embs)\n",
    "#         #print(seq_embs.shape)\n",
    "#         batch_size, max_len, hidden_dim = seq_embs.size()\n",
    "#         # batch * max_len * hidden_states\n",
    "#         if self.cell_type != 'transformer':\n",
    "#             hidden_vecs, final_vec = self.rnn(seq_embs, seq_lengths)\n",
    "#         else:\n",
    "#             seq_embs = self.pos_encoder(seq_embs.transpose(0, 1))\n",
    "#             src_key_mask = ~length_to_mask(seq_lengths)\n",
    "#             hidden_vecs = self.encoder(seq_embs, src_key_padding_mask=src_key_mask.to(device))\n",
    "#             hidden_vecs = hidden_vecs.transpose(0, 1)\n",
    "        \n",
    "#         inter_out = hidden_vecs\n",
    "#         #batch * max_len\n",
    "#         scores = torch.matmul(inter_out, self.V).squeeze(-1)\n",
    "\n",
    "#         #scores = torch.matmul(inter_out, self.decoder.weight.transpose(0, 1)).squeeze(-1)\n",
    "#         scores = scores/self.scale#we found this is very important to handle variances of scores\n",
    "        \n",
    "#         #Mask the padding values\n",
    "#         mask = torch.zeros(batch_size, max_len)\n",
    "#         for i in range(batch_size):\n",
    "#             mask[i, seq_lengths[i]:] = 1\n",
    "#         scores = scores.masked_fill(mask.to(device).bool(), -np.inf)\n",
    "#         #print(scores)\n",
    "#         #Softmax, batch_size*1*max_len\n",
    "#         attn = self.softmax(scores).unsqueeze(1)\n",
    "#         #weighted sum, batch_size*hidden_dim\n",
    "#         final_vec = torch.bmm(attn, hidden_vecs).squeeze(1)\n",
    "        \n",
    "#         #final_vec = self.linear(seq_embs)\n",
    "#         final_vec = self.dropout(final_vec)\n",
    "#         senti_scores = self.decoder(final_vec)\n",
    "#         #multi class\n",
    "#         if self.label_dim == 1:\n",
    "#             probs = self.sigmoid(senti_scores)\n",
    "#         else:\n",
    "#             probs = self.softmax(senti_scores)\n",
    "#             logits = torch.log(probs + 0.000000000001)\n",
    "#             return logits, senti_scores\n",
    "#         return probs, senti_scores\n",
    "    \n",
    "#     def load_vector(self, path, trainable=True):\n",
    "#         '''\n",
    "#         Load pre-savedd word embeddings\n",
    "#         '''\n",
    "#         with open(path, 'rb') as f:\n",
    "#             vectors = pickle.load(f)\n",
    "#             print(\"Loaded from {} with shape {}\".format(path, vectors.shape))\n",
    "#             #self.word_embed.weight = nn.Parameter(torch.FloatTensor(vectors))\n",
    "#             np_data = torch.from_numpy(vectors)#/4\n",
    "#             self.embeddings.weight.data.copy_(np_data)\n",
    "#             self.embeddings.weight.requires_grad = trainable\n",
    "#             print('embeddings loaded')"
   ]
  },
  {
   "cell_type": "code",
   "execution_count": 13,
   "metadata": {
    "colab": {},
    "colab_type": "code",
    "executionInfo": {
     "elapsed": 1032,
     "status": "ok",
     "timestamp": 1597469738705,
     "user": {
      "displayName": "Richard Sun",
      "photoUrl": "",
      "userId": "07723018862498440951"
     },
     "user_tz": -480
    },
    "id": "4mu6fXJWCyNk"
   },
   "outputs": [],
   "source": [
    "##Evaluation classification\n",
    "def evaluate_cls(dg, model, binary=True):\n",
    "    #Make prediction\n",
    "    model.eval()\n",
    "    count = 0\n",
    "    #record the gold and the prediction\n",
    "    gold_labels = []\n",
    "    pred_labels = []\n",
    "    dg.reset_samples()\n",
    "    while dg.index<dg.data_len:\n",
    "        sent_ids, label_list, sent_lens = next(dg.get_ids_samples())\n",
    "        outputs, _ =  model(sent_ids.to(device), sent_lens.to(device))\n",
    "        if binary:\n",
    "            preds = (outputs>0.5).squeeze()\n",
    "            gold_labels += list(label_list.cpu().numpy())\n",
    "            pred_labels += list(preds.cpu().numpy())\n",
    "            num = (preds.cpu() == label_list.bool()).sum().cpu().item()\n",
    "        else:\n",
    "            preds = outputs.argmax(1)\n",
    "            num = (label_list==preds.cpu()).sum().item()\n",
    "\n",
    "        count += num\n",
    "\n",
    "    accuracy = count*1.0/dg.data_len\n",
    "    print('Evaluation accuracy:', accuracy)\n",
    "    return accuracy\n",
    "\n",
    "\n",
    "#regression\n",
    "def evaluate_reg(dg, model):\n",
    "    #Make prediction\n",
    "    model.eval()\n",
    "    count = 0\n",
    "    #record the gold and the prediction\n",
    "    error = 0\n",
    "    dg.reset_samples()\n",
    "    while dg.index<dg.data_len:\n",
    "        sent_ids, label_list, sent_lens = next(dg.get_ids_samples())\n",
    "        probs, scores = model(sent_ids.to(device), sent_lens)#.to(device))\n",
    "        #label_list.apply_(scale_value)\n",
    "        loss = loss_func(scores.squeeze(), label_list.float().to(device))\n",
    "        num = len(sent_lens)\n",
    "        error += loss.item() * num\n",
    "        count += num\n",
    "\n",
    "    mse = error/count\n",
    "    return mse"
   ]
  },
  {
   "cell_type": "code",
   "execution_count": null,
   "metadata": {
    "colab": {
     "base_uri": "https://localhost:8080/",
     "height": 494
    },
    "colab_type": "code",
    "executionInfo": {
     "elapsed": 55364,
     "status": "error",
     "timestamp": 1597469809620,
     "user": {
      "displayName": "Richard Sun",
      "photoUrl": "",
      "userId": "07723018862498440951"
     },
     "user_tz": -480
    },
    "id": "STPSEMhcCyNo",
    "outputId": "cf30a75b-52c9-4c61-d28e-03c636fd7d95"
   },
   "outputs": [
    {
     "name": "stdout",
     "output_type": "stream",
     "text": [
      "MVMA-L\n",
      "Epoch: 0\n",
      "####################\n",
      "Sample Loss:1.610\n",
      "Sample Loss:1.024\n",
      "Sample Loss:0.927\n",
      "Sample Loss:0.878\n",
      "Sample Loss:0.834\n",
      "Evaluation accuracy: 0.5149082568807339\n",
      "Epoch: 1\n",
      "####################\n",
      "Sample Loss:0.803\n",
      "Sample Loss:0.711\n",
      "Sample Loss:0.660\n",
      "Sample Loss:0.600\n",
      "Sample Loss:0.588\n",
      "Evaluation accuracy: 0.7637614678899083\n",
      "Epoch: 2\n",
      "####################\n",
      "Sample Loss:0.498\n",
      "Sample Loss:0.476\n",
      "Sample Loss:0.482\n",
      "Sample Loss:0.450\n",
      "Sample Loss:0.454\n",
      "Evaluation accuracy: 0.8119266055045872\n",
      "Epoch: 3\n",
      "####################\n",
      "Sample Loss:0.408\n",
      "Sample Loss:0.408\n",
      "Sample Loss:0.342\n",
      "Sample Loss:0.342\n",
      "Sample Loss:0.312\n",
      "Evaluation accuracy: 0.823394495412844\n",
      "Epoch: 4\n",
      "####################\n",
      "Sample Loss:0.328\n",
      "Sample Loss:0.339\n",
      "Sample Loss:0.324\n",
      "Sample Loss:0.335\n",
      "Sample Loss:0.318\n",
      "Evaluation accuracy: 0.823394495412844\n",
      "Epoch: 5\n",
      "####################\n",
      "Sample Loss:0.322\n",
      "Sample Loss:0.294\n",
      "Sample Loss:0.294\n",
      "Sample Loss:0.298\n",
      "Sample Loss:0.274\n",
      "Evaluation accuracy: 0.819954128440367\n",
      "Epoch: 6\n",
      "####################\n",
      "Sample Loss:0.261\n",
      "Sample Loss:0.271\n",
      "Sample Loss:0.285\n",
      "Sample Loss:0.263\n",
      "Sample Loss:0.281\n",
      "Evaluation accuracy: 0.8222477064220184\n",
      "Epoch: 7\n",
      "####################\n",
      "Sample Loss:0.226\n",
      "Sample Loss:0.276\n",
      "Sample Loss:0.286\n",
      "Sample Loss:0.242\n",
      "Sample Loss:0.261\n",
      "Evaluation accuracy: 0.8153669724770642\n",
      "Epoch: 8\n",
      "####################\n",
      "Sample Loss:0.271\n",
      "Sample Loss:0.249\n",
      "Sample Loss:0.261\n",
      "Sample Loss:0.251\n",
      "Sample Loss:0.245\n",
      "Evaluation accuracy: 0.823394495412844\n",
      "Epoch: 9\n",
      "####################\n",
      "Sample Loss:0.230\n",
      "Sample Loss:0.285\n",
      "Sample Loss:0.271\n",
      "Sample Loss:0.245\n",
      "Sample Loss:0.242\n",
      "Evaluation accuracy: 0.8325688073394495\n",
      "Epoch: 10\n",
      "####################\n",
      "Sample Loss:0.212\n",
      "Sample Loss:0.270\n",
      "Sample Loss:0.250\n",
      "Sample Loss:0.260\n",
      "Sample Loss:0.229\n",
      "Evaluation accuracy: 0.823394495412844\n",
      "Epoch: 11\n",
      "####################\n",
      "Sample Loss:0.234\n",
      "Sample Loss:0.245\n",
      "Sample Loss:0.248\n",
      "Sample Loss:0.247\n",
      "Sample Loss:0.233\n",
      "Evaluation accuracy: 0.8256880733944955\n",
      "Epoch: 12\n",
      "####################\n",
      "Sample Loss:0.235\n",
      "Sample Loss:0.305\n",
      "Sample Loss:0.253\n",
      "Sample Loss:0.261\n",
      "Sample Loss:0.257\n",
      "Evaluation accuracy: 0.8314220183486238\n",
      "Epoch: 13\n",
      "####################\n",
      "Sample Loss:0.233\n",
      "Sample Loss:0.268\n",
      "Sample Loss:0.248\n",
      "Sample Loss:0.247\n",
      "Sample Loss:0.240\n",
      "Evaluation accuracy: 0.8268348623853211\n",
      "Epoch: 14\n",
      "####################\n",
      "Sample Loss:0.222\n",
      "Sample Loss:0.243\n",
      "Sample Loss:0.237\n",
      "Sample Loss:0.245\n",
      "Sample Loss:0.231\n",
      "Evaluation accuracy: 0.8211009174311926\n",
      "Epoch: 15\n",
      "####################\n",
      "Sample Loss:0.205\n",
      "Sample Loss:0.251\n",
      "Sample Loss:0.214\n",
      "Sample Loss:0.220\n",
      "Sample Loss:0.259\n",
      "Evaluation accuracy: 0.8245412844036697\n",
      "Epoch: 16\n",
      "####################\n",
      "Sample Loss:0.221\n",
      "Sample Loss:0.268\n",
      "Sample Loss:0.253\n",
      "Sample Loss:0.259\n",
      "Sample Loss:0.230\n",
      "Evaluation accuracy: 0.8348623853211009\n",
      "Epoch: 17\n",
      "####################\n",
      "Sample Loss:0.206\n",
      "Sample Loss:0.237\n",
      "Sample Loss:0.251\n",
      "Sample Loss:0.246\n",
      "Sample Loss:0.204\n",
      "Evaluation accuracy: 0.8348623853211009\n",
      "Epoch: 18\n",
      "####################\n",
      "Sample Loss:0.204\n",
      "Sample Loss:0.259\n",
      "Sample Loss:0.256\n",
      "Sample Loss:0.225\n",
      "Sample Loss:0.221\n",
      "Evaluation accuracy: 0.8360091743119266\n",
      "Epoch: 19\n",
      "####################\n",
      "Sample Loss:0.184\n",
      "Sample Loss:0.220\n",
      "Sample Loss:0.216\n",
      "Sample Loss:0.211\n",
      "Sample Loss:0.231\n",
      "Evaluation accuracy: 0.8360091743119266\n",
      "Epoch: 20\n",
      "####################\n",
      "Sample Loss:0.214\n",
      "Sample Loss:0.230\n",
      "Sample Loss:0.202\n",
      "Sample Loss:0.223\n",
      "Sample Loss:0.186\n",
      "Evaluation accuracy: 0.8360091743119266\n",
      "Epoch: 21\n",
      "####################\n",
      "Sample Loss:0.189\n",
      "Sample Loss:0.222\n",
      "Sample Loss:0.225\n",
      "Sample Loss:0.232\n",
      "Sample Loss:0.204\n",
      "Evaluation accuracy: 0.8348623853211009\n",
      "Epoch: 22\n",
      "####################\n",
      "Sample Loss:0.183\n",
      "Sample Loss:0.230\n",
      "Sample Loss:0.221\n",
      "Sample Loss:0.192\n",
      "Sample Loss:0.195\n",
      "Evaluation accuracy: 0.8428899082568807\n",
      "Epoch: 23\n",
      "####################\n",
      "Sample Loss:0.194\n",
      "Sample Loss:0.201\n",
      "Sample Loss:0.215\n",
      "Sample Loss:0.216\n",
      "Sample Loss:0.196\n",
      "Evaluation accuracy: 0.8440366972477065\n",
      "Epoch: 24\n",
      "####################\n",
      "Sample Loss:0.195\n",
      "Sample Loss:0.239\n",
      "Sample Loss:0.198\n",
      "Sample Loss:0.185\n",
      "Sample Loss:0.208\n",
      "Evaluation accuracy: 0.8428899082568807\n",
      "Epoch: 25\n",
      "####################\n",
      "Sample Loss:0.153\n",
      "Sample Loss:0.226\n",
      "Sample Loss:0.205\n",
      "Sample Loss:0.194\n",
      "Sample Loss:0.193\n",
      "Evaluation accuracy: 0.8520642201834863\n",
      "Epoch: 26\n",
      "####################\n",
      "Sample Loss:0.155\n"
     ]
    }
   ],
   "source": [
    "# torch.manual_seed(555)\n",
    "# np.random.seed(555)\n",
    "hidden_dim = 300\n",
    "label_dim = 5\n",
    "\n",
    "loss_func = nn.BCELoss()\n",
    "if label_dim > 1:\n",
    "    loss_func = nn.NLLLoss()\n",
    "\n",
    "valid_accs = []\n",
    "test_accs = []\n",
    "for scale in range(5):\n",
    "    model = SimpleClassifier(config.vocab_size, 300, hidden_dim, label_dim, 'MVMA_L')\n",
    "    #model.load_vector(config.emb_path, trainable=True)\n",
    "    \n",
    "    model = model.to(device)\n",
    "    ##################################\n",
    "    ####Weight decay can influence the result, if the value is too large, the model will not converge after iterations\n",
    "    #optimizer = optim.SGD(model.parameters(), lr=0.5, weight_decay=0.000000)\n",
    "    #optimizer = optim.Adagrad(model.parameters(), lr=0.5, weight_decay=0.00000, lr_decay=0.001)\n",
    "    #optimizer = optim.Adagrad(model.parameters(), lr=0.01, weight_decay=0.000001, lr_decay=0.001)\n",
    "\n",
    "    \n",
    "    loop_num = int(train_dg.data_len/config.batch_size)+1\n",
    "    best_model = None\n",
    "    best_acc = -1\n",
    "    train_acc = []\n",
    "    valid_acc = []\n",
    "    \n",
    "    for i in range(30):\n",
    "        print('Epoch:', i)\n",
    "        print('#'*20)\n",
    "        \n",
    "        ##For gru\n",
    "        #optimizer = optim.Adagrad(model.parameters(), lr=0.01, weight_decay=0.00001, lr_decay=0.001)\n",
    "        #for transformer\n",
    "        optimizer = optim.Adagrad(model.parameters(), lr=0.002, weight_decay=0.00001, lr_decay=0.001)\n",
    "\n",
    "        total_loss = 0\n",
    "        model.train()\n",
    "        #shuffle the training set given the random seed\n",
    "        train_dg.shuffle_data()\n",
    "        #sequential sampling, use all the dataset\n",
    "        train_dg.reset_samples()\n",
    "        #model.embeddings.required_grad = config.update_emb\n",
    "        for j in range(loop_num):\n",
    "            model.zero_grad()\n",
    "            # generate dataset\n",
    "            sent_ids,  label_list, sent_lens = next(train_dg.get_sequential_ids_samples())\n",
    "            logits, scores = model(sent_ids.to(device), sent_lens.to(device))\n",
    "            #label_list.apply_(scale_value)\n",
    "            \n",
    "            #print(logits.item())\n",
    "            if label_dim == 1:\n",
    "                loss = loss_func(logits.squeeze(), label_list.to(device).float())\n",
    "            else:\n",
    "                loss = loss_func(logits.squeeze(), label_list.to(device))#.float())#\n",
    "\n",
    "            loss.backward()\n",
    "            nn.utils.clip_grad_norm_(model.parameters(),5)\n",
    "            optimizer.step()\n",
    "            if j%20== 0:\n",
    "                l = loss.cpu().item()\n",
    "                print('Sample Loss:{:.3f}'.format(l))\n",
    "\n",
    "        dev_acc = evaluate_cls(dev_dg, model, binary=label_dim==1)\n",
    "        valid_acc.append(dev_acc)\n",
    "        if best_acc < dev_acc:\n",
    "            best_acc = dev_acc\n",
    "            best_model = copy.deepcopy(model)\n",
    "\n",
    "    print('Best dev:', best_acc)\n",
    "    test_acc = evaluate_cls(test_dg, best_model, binary=label_dim==1)\n",
    "    #Test performance       \n",
    "    print('Scale', scale, 'Test ACC:', test_acc)\n",
    "    valid_accs.append(best_acc)\n",
    "    test_accs.append(test_acc)\n",
    "\n",
    "    "
   ]
  },
  {
   "cell_type": "code",
   "execution_count": 15,
   "metadata": {},
   "outputs": [
    {
     "name": "stdout",
     "output_type": "stream",
     "text": [
      "0.8543577981651376\n",
      "0.8543577981651376\n",
      "0.8520642201834863\n"
     ]
    }
   ],
   "source": [
    "for item in valid_accs:\n",
    "    print(item)"
   ]
  },
  {
   "cell_type": "code",
   "execution_count": 16,
   "metadata": {},
   "outputs": [
    {
     "name": "stdout",
     "output_type": "stream",
     "text": [
      "0.8583196046128501\n",
      "0.8506315211422295\n",
      "0.8489840746842394\n"
     ]
    }
   ],
   "source": [
    "test_accs\n",
    "for item in test_accs:\n",
    "    print(item)"
   ]
  },
  {
   "cell_type": "code",
   "execution_count": null,
   "metadata": {
    "colab": {
     "base_uri": "https://localhost:8080/",
     "height": 68
    },
    "colab_type": "code",
    "executionInfo": {
     "elapsed": 2163,
     "status": "ok",
     "timestamp": 1596872327132,
     "user": {
      "displayName": "Richard Sun",
      "photoUrl": "",
      "userId": "07723018862498440951"
     },
     "user_tz": -480
    },
    "id": "OdxaGl4sCyOI",
    "outputId": "797ad37b-57aa-4dec-dc59-e0cbb62a224a"
   },
   "outputs": [],
   "source": [
    "#print('Best dev:', best_acc)\n",
    "scale = 10\n",
    "test_acc = evaluate_cls(test_dg, best_model)\n",
    "#Test performance       \n",
    "print('Scale', scale, 'Test ACC:', test_acc)"
   ]
  },
  {
   "cell_type": "markdown",
   "metadata": {},
   "source": [
    "imdb valid 89.0   test 0.8804\n",
    "mr valid 0.796 test 0.767"
   ]
  },
  {
   "cell_type": "code",
   "execution_count": 143,
   "metadata": {},
   "outputs": [],
   "source": [
    "# best_model = torch.load(\"checkpoints/sst_spectral_norm_gru_20210927.pt\")\n",
    "#best_model = torch.load(\"checkpoints/sst_spectral_norm_elman_20210927.pt\")\n",
    "# best_model = torch.load(\"checkpoints/sst_spectral_norm_lstm_20210927.pt\")\n",
    "\n",
    "#torch.save(best_model, \"checkpoints/imdb_spectral_norm_gru_20210927.pt\")"
   ]
  },
  {
   "cell_type": "markdown",
   "metadata": {},
   "source": [
    "## Examine results from self-defined RNNs"
   ]
  },
  {
   "cell_type": "code",
   "execution_count": 30,
   "metadata": {},
   "outputs": [],
   "source": [
    "from all_ngram_feature import *"
   ]
  },
  {
   "cell_type": "code",
   "execution_count": 38,
   "metadata": {},
   "outputs": [
    {
     "data": {
      "text/plain": [
       "88"
      ]
     },
     "execution_count": 38,
     "metadata": {},
     "output_type": "execute_result"
    }
   ],
   "source": [
    "word2id['bad']"
   ]
  },
  {
   "cell_type": "code",
   "execution_count": 44,
   "metadata": {},
   "outputs": [
    {
     "data": {
      "text/plain": [
       "tensor([-0.3225, -0.0042,  0.4190], device='cuda:0')"
      ]
     },
     "execution_count": 44,
     "metadata": {},
     "output_type": "execute_result"
    }
   ],
   "source": [
    "sent = [29, 88]\n",
    "gru_phrase_polarity_multi(sent, best_model, hidden_dim=300)"
   ]
  },
  {
   "cell_type": "code",
   "execution_count": 41,
   "metadata": {},
   "outputs": [
    {
     "data": {
      "text/plain": [
       "tensor([[ 2.8089, -0.5653, -0.1237]], device='cuda:0', grad_fn=<MmBackward>)"
      ]
     },
     "execution_count": 41,
     "metadata": {},
     "output_type": "execute_result"
    }
   ],
   "source": [
    "inputs = torch.LongTensor([sent]).to(device)\n",
    "length = torch.LongTensor([2])\n",
    "probs, scores = best_model(inputs, length.to(device))\n",
    "#_, scores = get_higher_degree_ngram(inputs, best_model, degree=3, hidden_dim=300)\n",
    "scores"
   ]
  },
  {
   "cell_type": "markdown",
   "metadata": {},
   "source": [
    "### Elman RNN"
   ]
  },
  {
   "cell_type": "code",
   "execution_count": 152,
   "metadata": {},
   "outputs": [
    {
     "name": "stdout",
     "output_type": "stream",
     "text": [
      "amazing\n",
      "real 1.7740238904953003\n",
      "first-degree approx 1.7679108381271362\n",
      "seond degree approx 1.7679108381271362\n",
      "very amazing\n",
      "real 3.4417803287506104\n",
      "first-degree approx 1.865437626838684\n",
      "seond degree approx 1.6167563199996948\n",
      "not amazing\n",
      "real 0.12541809678077698\n",
      "first-degree approx -1.709215760231018\n",
      "seond degree approx -1.9143320322036743\n",
      "not not amazing\n",
      "real 0.1223953366279602\n",
      "first-degree approx -0.0673142522573471\n",
      "seond degree approx 0.03873423859477043\n",
      "awful\n",
      "real -1.7218923568725586\n",
      "first-degree approx -1.6802411079406738\n",
      "seond degree approx -1.6802411079406738\n",
      "very awful\n",
      "real -3.481248617172241\n",
      "first-degree approx -2.0158090591430664\n",
      "seond degree approx -1.4931972026824951\n",
      "not awful\n",
      "real 0.10105571150779724\n",
      "first-degree approx 1.882822036743164\n",
      "seond degree approx 2.3339004516601562\n",
      "not not awful\n",
      "real 0.0360625796020031\n",
      "first-degree approx -0.017644550651311874\n",
      "seond degree approx -0.25441500544548035\n"
     ]
    }
   ],
   "source": [
    "best_model.eval()\n",
    "elman_first_degree_scores = []\n",
    "elman_second_degree_scores = []\n",
    "awful = word2id['awful']\n",
    "amazing = word2id['amazing']\n",
    "not_ = word2id['not']\n",
    "very = word2id['very']\n",
    "sents = [[amazing], [very, amazing], [not_, amazing], \n",
    "         [not_, not_, amazing], [awful], [very, awful], [not_, awful], [not_, not_, awful]]\n",
    "labels = ['amazing', 'very amazing', 'not amazing', \n",
    "          'not not amazing', 'awful', 'very awful', 'not awful', 'not not awful']\n",
    "lengths = [1, 2, 2, 3, 1, 2, 2, 3]\n",
    "\n",
    "for i, sent in enumerate(sents):\n",
    "    print(' '.join([id2word[w] for w in sent]))\n",
    "    inputs = torch.LongTensor([sent]).to(device)\n",
    "    length = torch.LongTensor([lengths[i]])\n",
    "    probs, scores = best_model(inputs, length.to(device))\n",
    "    print('real', scores.item())\n",
    "    scores = rnn_phrase_polarity_new(sent, best_model, 300)\n",
    "    print('first-degree approx', scores)\n",
    "    elman_first_degree_scores.append(scores)\n",
    "    phi, scores = get_higher_degree_ngram(inputs, best_model, degree=2, hidden_dim=300)\n",
    "    elman_second_degree_scores.append(scores[:,-1][0].item())\n",
    "    print('seond degree approx', scores[:,-1][0].item())"
   ]
  },
  {
   "cell_type": "code",
   "execution_count": 154,
   "metadata": {},
   "outputs": [
    {
     "data": {
      "text/plain": [
       "<matplotlib.legend.Legend at 0x7f7da406f390>"
      ]
     },
     "execution_count": 154,
     "metadata": {},
     "output_type": "execute_result"
    },
    {
     "data": {
      "image/png": "[encoded data removed]",
      "text/plain": [
       "<Figure size 432x288 with 1 Axes>"
      ]
     },
     "metadata": {
      "needs_background": "light"
     },
     "output_type": "display_data"
    }
   ],
   "source": [
    "# for i in range(len(elman_first_degree_scores)):\n",
    "#     plt.bar(i, elman_first_degree_scores[i], label=labels[i])\n",
    "for i in range(len(elman_second_degree_scores)):\n",
    "    plt.bar(i, elman_second_degree_scores[i], label=labels[i])\n",
    "plt.plot([-1,6], [0, 0], 'b', linestyle='--')\n",
    "plt.plot([4,4], [-6.5, 6.5], 'b', linestyle='--')\n",
    "ax = plt.gca()\n",
    "ax.set_title('GRU', y=-0.1)\n",
    "ax.axes.xaxis.set_visible(False)\n",
    "plt.ylim(-3, 3)\n",
    "plt.legend(ncol=2)"
   ]
  },
  {
   "cell_type": "markdown",
   "metadata": {},
   "source": [
    "## GRU"
   ]
  },
  {
   "cell_type": "code",
   "execution_count": 17,
   "metadata": {},
   "outputs": [
    {
     "name": "stdout",
     "output_type": "stream",
     "text": [
      "amazing\n",
      "real 9.08558177947998\n",
      "approx 9.999212265014648\n",
      "very amazing\n",
      "real 8.987044334411621\n",
      "approx 0.08840620517730713\n",
      "not amazing\n",
      "real -0.06087500602006912\n",
      "approx -7.169424057006836\n",
      "not not amazing\n",
      "real -0.09008053690195084\n",
      "approx 0.04791463911533356\n",
      "awful\n",
      "real -6.310919284820557\n",
      "approx -8.080079078674316\n",
      "very awful\n",
      "real -4.444940567016602\n",
      "approx 1.8684308528900146\n",
      "not awful\n",
      "real -5.530052661895752\n",
      "approx 1.4990994930267334\n",
      "not not awful\n",
      "real -5.441023826599121\n",
      "approx 0.4996188282966614\n"
     ]
    }
   ],
   "source": [
    "best_model.eval()\n",
    "gru_first_degree_scores = []\n",
    "awful = word2id['awful']\n",
    "amazing = word2id['amazing']\n",
    "not_ = word2id['not']\n",
    "very = word2id['very']\n",
    "sents = [[amazing], [very, amazing], [not_, amazing], \n",
    "         [not_, not_, amazing], [awful], [very, awful], [not_, awful], [not_, not_, awful]]\n",
    "labels = ['amazing', 'very amazing', 'not amazing', \n",
    "          'not not amazing', 'awful', 'very awful', 'not awful', 'not not awful']\n",
    "lengths = [1, 2, 2, 3, 1, 2, 2, 3]\n",
    "for i, sent in enumerate(sents):\n",
    "    print(' '.join([id2word[w] for w in sent]))\n",
    "    inputs = torch.LongTensor([sent]).to(device)\n",
    "    length = torch.LongTensor([lengths[i]])\n",
    "    probs, scores = best_model(inputs, length.to(device))\n",
    "    print('real', scores.item())\n",
    "    scores = gru_phrase_polarity_new(sent, best_model, 300)\n",
    "    print('approx', scores)\n",
    "    gru_first_degree_scores.append(scores)"
   ]
  },
  {
   "cell_type": "code",
   "execution_count": 18,
   "metadata": {},
   "outputs": [
    {
     "data": {
      "text/plain": [
       "<matplotlib.legend.Legend at 0x7fd3c0a3c350>"
      ]
     },
     "execution_count": 18,
     "metadata": {},
     "output_type": "execute_result"
    },
    {
     "data": {
      "image/png": "[encoded data removed]",
      "text/plain": [
       "<Figure size 432x288 with 1 Axes>"
      ]
     },
     "metadata": {
      "needs_background": "light"
     },
     "output_type": "display_data"
    }
   ],
   "source": [
    "for i in range(len(gru_first_degree_scores)):\n",
    "    plt.bar(i, gru_first_degree_scores[i], label=labels[i])\n",
    "plt.plot([-1,6], [0, 0], 'b', linestyle='--')\n",
    "plt.plot([4,4], [-6.5, 6.5], 'b', linestyle='--')\n",
    "ax = plt.gca()\n",
    "ax.set_title('GRU', y=-0.1)\n",
    "ax.axes.xaxis.set_visible(False)\n",
    "plt.ylim(-3, 3)\n",
    "plt.legend(ncol=2)"
   ]
  },
  {
   "cell_type": "markdown",
   "metadata": {},
   "source": [
    "## LSTM"
   ]
  },
  {
   "cell_type": "code",
   "execution_count": 161,
   "metadata": {},
   "outputs": [
    {
     "name": "stdout",
     "output_type": "stream",
     "text": [
      "amazing\n",
      "real 0.9530318379402161\n",
      "approx 0.9486384987831116\n",
      "very amazing\n",
      "real 3.1096980571746826\n",
      "approx 2.8145484924316406\n",
      "not amazing\n",
      "real -0.467763751745224\n",
      "approx -1.6512925624847412\n",
      "not not amazing\n",
      "real 0.3846995234489441\n",
      "approx 1.2782796621322632\n",
      "awful\n",
      "real -0.9194007515907288\n",
      "approx -0.9077060222625732\n",
      "very awful\n",
      "real -3.0138728618621826\n",
      "approx -2.71238112449646\n",
      "not awful\n",
      "real 0.7023808360099792\n",
      "approx 1.819990634918213\n",
      "not not awful\n",
      "real -0.37374943494796753\n",
      "approx -1.3033583164215088\n"
     ]
    }
   ],
   "source": [
    "best_model.eval()\n",
    "awful = word2id['awful']\n",
    "amazing = word2id['amazing']\n",
    "not_ = word2id['not']\n",
    "very = word2id['very']\n",
    "lstm_first_degree_scores = []\n",
    "sents = [[amazing], [very, amazing], [not_, amazing], \n",
    "         [not_, not_, amazing], [awful], [very, awful], [not_, awful], [not_, not_, awful]]\n",
    "labels = ['amazing', 'very amazing', 'not amazing', \n",
    "          'not not amazing', 'awful', 'very awful', 'not awful', 'not not awful']\n",
    "lengths = [1, 2, 2, 3, 1, 2, 2, 3]\n",
    "for i, sent in enumerate(sents):\n",
    "    print(' '.join([id2word[w] for w in sent]))\n",
    "    inputs = torch.LongTensor([sent]).to(device)\n",
    "    length = torch.LongTensor([lengths[i]])\n",
    "    probs, scores = model(inputs, length.to(device))\n",
    "    print('real', scores.item())\n",
    "    scores = lstm_phrase_polarity_new(sent, model, 300)\n",
    "    print('approx', scores)\n",
    "    lstm_first_degree_scores.append(scores)"
   ]
  },
  {
   "cell_type": "code",
   "execution_count": 162,
   "metadata": {},
   "outputs": [
    {
     "data": {
      "text/plain": [
       "<matplotlib.legend.Legend at 0x7f7d85e87a50>"
      ]
     },
     "execution_count": 162,
     "metadata": {},
     "output_type": "execute_result"
    },
    {
     "data": {
      "image/png": "[encoded data removed]",
      "text/plain": [
       "<Figure size 432x288 with 1 Axes>"
      ]
     },
     "metadata": {
      "needs_background": "light"
     },
     "output_type": "display_data"
    }
   ],
   "source": [
    "for i in range(len(lstm_first_degree_scores)):\n",
    "    plt.bar(i, lstm_first_degree_scores[i], label=labels[i])\n",
    "plt.plot([-1,6], [0, 0], 'b', linestyle='--')\n",
    "plt.plot([4,4], [-6.5, 6.5], 'b', linestyle='--')\n",
    "ax = plt.gca()\n",
    "ax.set_title('LSTM', y=-0.1)\n",
    "ax.axes.xaxis.set_visible(False)\n",
    "plt.ylim(-3, 3)\n",
    "plt.legend(ncol=2)"
   ]
  },
  {
   "cell_type": "code",
   "execution_count": 175,
   "metadata": {},
   "outputs": [
    {
     "data": {
      "image/png": "[encoded data removed]",
      "text/plain": [
       "<Figure size 1080x288 with 3 Axes>"
      ]
     },
     "metadata": {},
     "output_type": "display_data"
    }
   ],
   "source": [
    "plt.style.use('Solarize_Light2')\n",
    "plt.figure(figsize=(15, 4))\n",
    "labels = ['amazing', 'very amazing', 'not amazing', \n",
    "          'not not amazing', 'awful', 'very awful', 'not awful', 'not not awful']\n",
    "\n",
    "\n",
    "\n",
    "# plt.subplot(142)\n",
    "# for i in range(len(elman_second_degree_scores)):\n",
    "#     plt.bar(i, elman_second_degree_scores[i], label=labels[i])\n",
    "# plt.plot([-1,8], [0, 0], 'b', linestyle='--')\n",
    "# plt.plot([3.5,3.5], [-6.5, 6.5], 'b', linestyle='--')\n",
    "# ax = plt.gca()\n",
    "# ax.set_title('Elman (2rd)', y=-0.1)\n",
    "# # ax.axes.xaxis.set_visible(False)\n",
    "# ax.axes.xaxis.set_visible(False)\n",
    "# plt.ylim(-3.5, 3.5)\n",
    "\n",
    "\n",
    "plt.subplot(132)\n",
    "for i in range(len(gru_first_degree_scores)):\n",
    "    plt.bar(i, gru_first_degree_scores[i], label=labels[i])\n",
    "plt.plot([-1,8], [0, 0], 'b', linestyle='--')\n",
    "plt.plot([3.5,3.5], [-6.5, 6.5], 'b', linestyle='--')\n",
    "ax = plt.gca()\n",
    "ax.set_title('GRU', y=-0.1)\n",
    "ax.axes.xaxis.set_visible(False)\n",
    "plt.ylim(-3.5, 3.5)\n",
    "\n",
    "plt.subplot(133)\n",
    "for i in range(len(lstm_first_degree_scores)):\n",
    "    plt.bar(i, lstm_first_degree_scores[i], label=labels[i])\n",
    "plt.plot([-1,8], [0, 0], 'b', linestyle='--')\n",
    "plt.plot([3.5,3.5], [-6.5, 6.5], 'b', linestyle='--')\n",
    "# plt.legend()\n",
    "\n",
    "ax = plt.gca()\n",
    "ax.set_title('LSTM', y=-0.1)\n",
    "ax.axes.xaxis.set_visible(False)\n",
    "# plt.xticks(ticks=range(0, 5), )\n",
    "plt.ylim(-3.5, 3.5)\n",
    "\n",
    "\n",
    "plt.subplot(131)\n",
    "for i in range(len(elman_first_degree_scores)):\n",
    "    plt.bar(i, elman_first_degree_scores[i], label=labels[i])\n",
    "plt.plot([-1,8], [0, 0], 'b', linestyle='--')\n",
    "plt.plot([3.5,3.5], [-6.5, 6.5], 'b', linestyle='--')\n",
    "ax = plt.gca()\n",
    "ax.set_title('Elman', y=-0.1)\n",
    "ax.axes.xaxis.set_visible(False)\n",
    "plt.ylim(-3.5, 3.5)\n",
    "plt.xlabel('Elman (1st-degree)')\n",
    "plt.legend(loc=2, prop={'size': 8}, ncol=2, bbox_to_anchor=(0, 1.0))\n",
    "plt.savefig(\"imgs/negation_intensification_rnn.pdf\", bbox_inches='tight', dpi=900)"
   ]
  },
  {
   "cell_type": "markdown",
   "metadata": {},
   "source": [
    "## Check Approximation"
   ]
  },
  {
   "cell_type": "code",
   "execution_count": 19,
   "metadata": {},
   "outputs": [],
   "source": [
    "from self_defined_lstm_spectral import LSTM2"
   ]
  },
  {
   "cell_type": "code",
   "execution_count": 61,
   "metadata": {},
   "outputs": [],
   "source": [
    "def get_errors(rnn_type = 'elman'):\n",
    "    best_model.eval()\n",
    "    test_dg.reset_samples()\n",
    "    errors = []\n",
    "    while test_dg.index<test_dg.data_len:\n",
    "        sent_ids,  label_list, sent_lens = next(test_dg.get_sequential_ids_samples())\n",
    "        sent_ids = sent_ids.to(device)\n",
    "        preds, scores =  best_model(sent_ids, sent_lens.to(device))\n",
    "\n",
    "        seq_embs = best_model.embeddings(sent_ids)\n",
    "        batch_size, max_len, hidden_dim = seq_embs.size()\n",
    "        ##############gru, elman rnn\n",
    "        if rnn_type != 'lstm':\n",
    "            hidden_vecs, final_vecs = best_model.rnn(seq_embs, sent_lens.to(device))\n",
    "        else:\n",
    "            lstm2 = LSTM2(300, 300).to(device)\n",
    "            lstm2.f_cell.linear_hh.weight = best_model.rnn.f_cell.linear_hh.weight\n",
    "            lstm2.f_cell.weight_ih = best_model.rnn.f_cell.weight_ih\n",
    "            hidden_vecs, final_vecs, cell_vecs = lstm2(seq_embs, sent_lens.to(device))\n",
    "\n",
    "\n",
    "\n",
    "        batch_size, max_len, _ = hidden_vecs.shape\n",
    "        hiddens = torch.zeros_like(hidden_vecs).to(device)\n",
    "        if rnn_type == 'lstm':\n",
    "            cells = torch.zeros_like(hidden_vecs).to(device)\n",
    "            cells[:, 1:] = cell_vecs[:, :-1]\n",
    "        hiddens[:, 1:] = hidden_vecs[:, :-1]\n",
    "        approx_hiddens = torch.zeros_like(hiddens)\n",
    "        #predict next hidden state\n",
    "        for j in range(max_len):\n",
    "            x = seq_embs[:, j]\n",
    "            hidden = hiddens[:, j]\n",
    "\n",
    "            ####GRU\n",
    "            if rnn_type == 'gru':\n",
    "                approx_hiddens[:, j] = get_gru_hidden_state(x, hidden)\n",
    "            if rnn_type == 'elman':\n",
    "                approx_hiddens[:, j] = get_rnn_hidden_state(x, hidden)\n",
    "\n",
    "            if rnn_type == 'lstm':\n",
    "                c = cells[:, j]\n",
    "                approx_hiddens[:, j] = get_lstm_hidden_state(x, hidden, c)\n",
    "\n",
    "        #calculate errors    \n",
    "        for i in range(batch_size):\n",
    "            length = sent_lens[i]\n",
    "            for j in range(length):\n",
    "                new_hidden = approx_hiddens[:, j]\n",
    "                hidden = hidden_vecs[:, j]\n",
    "                error = (new_hidden - hidden).norm(2)/hidden.norm(2)\n",
    "                errors.append(error.item())\n",
    "                \n",
    "    return errors"
   ]
  },
  {
   "cell_type": "code",
   "execution_count": 221,
   "metadata": {},
   "outputs": [],
   "source": [
    "\n",
    "# best_model.eval()\n",
    "# test_dg.reset_samples()\n",
    "# errors = []\n",
    "# while test_dg.index<test_dg.data_len:\n",
    "#     sent_ids,  label_list, sent_lens = next(test_dg.get_sequential_ids_samples())\n",
    "#     sent_ids = sent_ids.to(device)\n",
    "#     preds, scores =  best_model(sent_ids, sent_lens.to(device))\n",
    "    \n",
    "#     seq_embs = best_model.embeddings(sent_ids)\n",
    "#     batch_size, max_len, hidden_dim = seq_embs.size()\n",
    "#     #gru, elman rnn\n",
    "#     hidden_vecs, final_vecs = best_model.rnn(seq_embs, sent_lens.to(device))\n",
    "#     batch_size, max_len, _ = hidden_vecs.shape\n",
    "#     hiddens = torch.zeros_like(hidden_vecs).to(device)\n",
    "#     hiddens[:, 1:] = hidden_vecs[:, :-1]\n",
    "#     approx_hiddens = torch.zeros_like(hiddens)\n",
    "#     #predict next hidden state\n",
    "#     for j in range(max_len):\n",
    "#         x = seq_embs[:, j]\n",
    "#         hidden = hiddens[:, j]\n",
    "#         approx_hiddens[:, j] = get_gru_hidden_state(x, hidden)\n",
    "#     #calculate errors    \n",
    "#     for i in range(batch_size):\n",
    "#         length = sent_lens[i]\n",
    "#         for j in range(length):\n",
    "#             new_hidden = approx_hiddens[:, j]\n",
    "#             hidden = hidden_vecs[:, j]\n",
    "#             error = (new_hidden - hidden).norm(2)/hidden.norm(2)\n",
    "#             errors.append(error.item())\n",
    "    \n",
    "    "
   ]
  },
  {
   "cell_type": "code",
   "execution_count": 200,
   "metadata": {},
   "outputs": [
    {
     "data": {
      "text/plain": [
       "torch.Size([225, 7, 300])"
      ]
     },
     "execution_count": 200,
     "metadata": {},
     "output_type": "execute_result"
    }
   ],
   "source": [
    "seq_embs.shape"
   ]
  },
  {
   "cell_type": "code",
   "execution_count": 21,
   "metadata": {},
   "outputs": [],
   "source": [
    "def get_rnn_hidden_state(x, hidden):\n",
    "    gi = F.linear(x, best_model.rnn.f_cell.weight_ih)\n",
    "    #print(hidden.shape)\n",
    "    #print(self.weight_hh.shape)\n",
    "    gh = best_model.rnn.f_cell.linear_hh(hidden)\n",
    "    g = torch.tanh(gi)\n",
    "    f1 = 1 - g**2\n",
    "    f2 = -g*f1\n",
    "    hidden = g + f1*gh# + f2 * gh**2\n",
    "    return hidden\n",
    "\n",
    "def get_gru_hidden_state(x, hidden):\n",
    "    gi = F.linear(x, best_model.rnn.f_cell.weight_ih)\n",
    "    #print(hidden.shape)\n",
    "    #print(self.weight_hh.shape)\n",
    "    gh = best_model.rnn.f_cell.linear_hh(hidden)\n",
    "    i_r, i_i, i_n = gi.chunk(3, 1)\n",
    "    h_r, h_i, h_n = gh.chunk(3, 1)\n",
    "    g_r = torch.sigmoid(i_r)\n",
    "    f_r = g_r*(1-g_r)\n",
    "    g_z = torch.sigmoid(i_i)\n",
    "    f_z = g_z*(1-g_z)\n",
    "    g_n = torch.tanh(i_n)\n",
    "    f_n = 1-g_n**2\n",
    "    g = (1-g_z) * g_n\n",
    "    hidden = g + f_n*(1-g_z)*g_r*h_n-f_z*g_n*h_i+g_z*hidden\n",
    "    return hidden\n",
    "\n",
    "def get_lstm_hidden_state(x, hidden, cell):\n",
    "    gi = F.linear(x, best_model.rnn.f_cell.weight_ih)\n",
    "    #print(hidden.shape)\n",
    "    #print(self.weight_hh.shape)\n",
    "    gh = best_model.rnn.f_cell.linear_hh(hidden)\n",
    "    i_i, i_f, i_g, i_o = gi.chunk(4, 1)\n",
    "    h_i, h_f, h_g, h_o = gh.chunk(4, 1)\n",
    "    gx_i = torch.sigmoid(i_i)\n",
    "    fx_i = gx_i*(1-gx_i)\n",
    "    gx_f = torch.sigmoid(i_f)\n",
    "    fx_f = gx_f*(1-gx_f)\n",
    "    gx_o = torch.sigmoid(i_o)\n",
    "    fx_o = gx_o*(1-gx_o)\n",
    "    gx_c = torch.tanh(i_g)\n",
    "    fx_c = 1 - gx_c**2\n",
    "\n",
    "    g_c = gx_i*gx_c   \n",
    "    g_c_tanh = torch.tanh(g_c)\n",
    "    g_h = gx_o * g_c_tanh\n",
    "    B = gx_f*cell\n",
    "    D = gx_c*fx_i*h_i + gx_i*fx_c*h_g\n",
    "    E = gx_o * (1-g_c_tanh**2) * gx_f * cell \n",
    "    FF = gx_o * (1-g_c_tanh**2) * D + fx_o * g_c_tanh * h_o######original\n",
    "\n",
    "    hidden = g_h + E +FF\n",
    "    cell = g_c + B + D\n",
    "    return hidden#, cell"
   ]
  },
  {
   "cell_type": "code",
   "execution_count": 22,
   "metadata": {},
   "outputs": [],
   "source": [
    "# errors = []\n",
    "# batch_size, max_len, _ = hidden_vecs.shape\n",
    "# hiddens = torch.zeros_like(hidden_vecs).to(device)\n",
    "# hiddens[:, 1:] = hidden_vecs[:, :-1]\n",
    "# approx_hiddens = torch.zeros_like(hiddens)\n",
    "# #predict next hidden state\n",
    "# for j in range(max_len):\n",
    "#     x = seq_embs[:, j]\n",
    "#     hidden = hiddens[:, j]\n",
    "#     approx_hiddens[:, j] = get_rnn_hidden_state(x, hidden)\n",
    "# #calculate errors    \n",
    "# for i in range(batch_size):\n",
    "#     length = sent_lens[i]\n",
    "#     for j in range(length):\n",
    "#         new_hidden = approx_hiddens[:, j]\n",
    "#         hidden = hidden_vecs[:, j]\n",
    "#         error = (new_hidden - hidden).norm(2)/hidden.norm(2)\n",
    "#         errors.append(error.item())"
   ]
  },
  {
   "cell_type": "code",
   "execution_count": 62,
   "metadata": {},
   "outputs": [
    {
     "name": "stdout",
     "output_type": "stream",
     "text": [
      "tarlor series lstm linear simplified\n",
      "tarlor series lstm linear simplified\n",
      "tarlor series lstm linear simplified\n",
      "tarlor series lstm linear simplified\n"
     ]
    }
   ],
   "source": [
    "lstm_errors = get_errors('lstm')"
   ]
  },
  {
   "cell_type": "code",
   "execution_count": 23,
   "metadata": {},
   "outputs": [],
   "source": [
    "#gru_errors = get_errors('gru')"
   ]
  },
  {
   "cell_type": "code",
   "execution_count": 96,
   "metadata": {},
   "outputs": [],
   "source": [
    "elman_errors = get_errors('elman')"
   ]
  },
  {
   "cell_type": "code",
   "execution_count": 63,
   "metadata": {},
   "outputs": [
    {
     "data": {
      "image/png": "[encoded data removed]",
      "text/plain": [
       "<Figure size 432x288 with 1 Axes>"
      ]
     },
     "metadata": {},
     "output_type": "display_data"
    }
   ],
   "source": [
    "_ = plt.boxplot(lstm_errors)#, histtype='step')\n",
    "# plt.ylabel('Frequence')\n",
    "# plt.savefig(\"imgs/lstm_rnn_approx_error.pdf\", bbox_inches='tight', dpi=900)"
   ]
  },
  {
   "cell_type": "code",
   "execution_count": 98,
   "metadata": {},
   "outputs": [
    {
     "data": {
      "image/png": "[encoded data removed]",
      "text/plain": [
       "<Figure size 432x288 with 1 Axes>"
      ]
     },
     "metadata": {},
     "output_type": "display_data"
    }
   ],
   "source": [
    "plt.style.use('Solarize_Light2')\n",
    "_ = plt.boxplot([elman_errors, gru_errors, lstm_errors], patch_artist=True, labels=['Elman', 'GRU', 'LSTM'])\n",
    "plt.ylabel('Relative Error')\n",
    "plt.savefig(\"imgs/elman_gru_lstm_approx_error_sst.pdf\", bbox_inches='tight', dpi=900)"
   ]
  },
  {
   "cell_type": "markdown",
   "metadata": {},
   "source": [
    "## Explore Ngram Polarity Score"
   ]
  },
  {
   "cell_type": "code",
   "execution_count": 148,
   "metadata": {},
   "outputs": [],
   "source": [
    "from nltk import ngrams\n",
    "from collections import Counter\n",
    "texts, labels = zip(*train_dg.data_batch)"
   ]
  },
  {
   "cell_type": "code",
   "execution_count": 149,
   "metadata": {},
   "outputs": [
    {
     "data": {
      "text/plain": [
       "[1092, 6889, 5]"
      ]
     },
     "execution_count": 149,
     "metadata": {},
     "output_type": "execute_result"
    }
   ],
   "source": [
    "texts[0][-3:]"
   ]
  },
  {
   "cell_type": "code",
   "execution_count": 150,
   "metadata": {},
   "outputs": [],
   "source": [
    "n = 2\n",
    "ngram_label_pair = []\n",
    "ngram_set = []\n",
    "for i, text in enumerate(texts):\n",
    "    label = labels[i]\n",
    "    if len(text)<n:\n",
    "        continue\n",
    "#     ###Find all possible ngrams\n",
    "#     ngram_list = list(ngrams(text, n))\n",
    "#     ngram_set += ngram_list\n",
    "#     label_list = [label] * len(ngram_list)\n",
    "#     ngram_label_pair += list(zip(ngram_list, label_list))\n",
    "    \n",
    "    ###Find the last ngrams\n",
    "    ngram_list = text[-n:]\n",
    "    ngram_set += [tuple(ngram_list)]\n",
    "    ngram_label_pair += [(tuple(ngram_list), label)]\n",
    "    \n",
    "    "
   ]
  },
  {
   "cell_type": "code",
   "execution_count": 151,
   "metadata": {},
   "outputs": [],
   "source": [
    "#ngram_label_pair"
   ]
  },
  {
   "cell_type": "code",
   "execution_count": 152,
   "metadata": {},
   "outputs": [],
   "source": [
    "#get_phrase_polarity([16, 9, 39])"
   ]
  },
  {
   "cell_type": "code",
   "execution_count": 153,
   "metadata": {
    "scrolled": false
   },
   "outputs": [
    {
     "ename": "NameError",
     "evalue": "name 'get_phrase_polarity' is not defined",
     "output_type": "error",
     "traceback": [
      "\u001b[0;31m---------------------------------------------------------------------------\u001b[0m",
      "\u001b[0;31mNameError\u001b[0m                                 Traceback (most recent call last)",
      "\u001b[0;32m<ipython-input-153-3475b4859daa>\u001b[0m in \u001b[0;36m<module>\u001b[0;34m\u001b[0m\n\u001b[1;32m     13\u001b[0m         \u001b[0mphrase\u001b[0m \u001b[0;34m=\u001b[0m \u001b[0mlist\u001b[0m\u001b[0;34m(\u001b[0m\u001b[0mitem\u001b[0m\u001b[0;34m)\u001b[0m\u001b[0;34m\u001b[0m\u001b[0;34m\u001b[0m\u001b[0m\n\u001b[1;32m     14\u001b[0m         \u001b[0;31m#print(diff)\u001b[0m\u001b[0;34m\u001b[0m\u001b[0;34m\u001b[0m\u001b[0;34m\u001b[0m\u001b[0m\n\u001b[0;32m---> 15\u001b[0;31m         \u001b[0mngram_score\u001b[0m \u001b[0;34m=\u001b[0m \u001b[0mget_phrase_polarity\u001b[0m\u001b[0;34m(\u001b[0m\u001b[0mphrase\u001b[0m\u001b[0;34m)\u001b[0m\u001b[0;34m\u001b[0m\u001b[0;34m\u001b[0m\u001b[0m\n\u001b[0m\u001b[1;32m     16\u001b[0m         \u001b[0mpos_ngram_scores\u001b[0m\u001b[0;34m.\u001b[0m\u001b[0mappend\u001b[0m\u001b[0;34m(\u001b[0m\u001b[0mngram_score\u001b[0m\u001b[0;34m)\u001b[0m\u001b[0;34m\u001b[0m\u001b[0;34m\u001b[0m\u001b[0m\n\u001b[1;32m     17\u001b[0m     \u001b[0;32mif\u001b[0m \u001b[0mrate\u001b[0m\u001b[0;34m<\u001b[0m\u001b[0;34m-\u001b[0m\u001b[0;36m0.8\u001b[0m \u001b[0;32mand\u001b[0m \u001b[0mdiff\u001b[0m\u001b[0;34m<\u001b[0m\u001b[0;34m-\u001b[0m\u001b[0;36m3\u001b[0m\u001b[0;34m:\u001b[0m\u001b[0;34m\u001b[0m\u001b[0;34m\u001b[0m\u001b[0m\n",
      "\u001b[0;31mNameError\u001b[0m: name 'get_phrase_polarity' is not defined"
     ]
    }
   ],
   "source": [
    "ngram_label_freq = Counter(ngram_label_pair)\n",
    "ngram_set = set(ngram_set)\n",
    "pos_ngram_scores = []\n",
    "neg_ngram_scores = []\n",
    "for item in ngram_set:\n",
    "    item_pos = (item, 1)\n",
    "    item_neg = (item, 0)\n",
    "    diff = ngram_label_freq[item_pos] - ngram_label_freq[item_neg]\n",
    "    sums = ngram_label_freq[item_pos] + ngram_label_freq[item_neg]\n",
    "    rate = diff*1.0/sums\n",
    "    if rate>0.8 and diff>3:\n",
    "        #print(item, diff)\n",
    "        phrase = list(item)\n",
    "        #print(diff)\n",
    "        ngram_score = get_phrase_polarity(phrase)\n",
    "        pos_ngram_scores.append(ngram_score)\n",
    "    if rate<-0.8 and diff<-3:\n",
    "        phrase = list(item)\n",
    "        #print(diff)\n",
    "        ngram_score = get_phrase_polarity(phrase)\n",
    "        neg_ngram_scores.append(ngram_score)\n"
   ]
  },
  {
   "cell_type": "code",
   "execution_count": 122,
   "metadata": {},
   "outputs": [
    {
     "data": {
      "text/plain": [
       "Text(0, 0.5, 'Freq Density')"
      ]
     },
     "execution_count": 122,
     "metadata": {},
     "output_type": "execute_result"
    },
    {
     "data": {
      "image/png": "[encoded data removed]",
      "text/plain": [
       "<Figure size 432x288 with 1 Axes>"
      ]
     },
     "metadata": {},
     "output_type": "display_data"
    }
   ],
   "source": [
    "#pos_token_sentiment_score, neg_token_sentiment_score\n",
    "plt.hist(pos_token_sentiment_score, label='Positive Token', density=True)\n",
    "plt.hist(neg_token_sentiment_score, label='Negative Token', density=True)\n",
    "plt.grid(linestyle='-.')\n",
    "plt.legend()\n",
    "plt.xlabel('Polarity Score')\n",
    "plt.ylabel('Freq Density')\n",
    "#plt.savefig(\"imgs/sst_token_polarity_score_gru.pdf\", bbox_inches='tight', dpi=900)"
   ]
  },
  {
   "cell_type": "code",
   "execution_count": 96,
   "metadata": {},
   "outputs": [],
   "source": [
    "#pos_ngram_scores"
   ]
  },
  {
   "cell_type": "code",
   "execution_count": 123,
   "metadata": {},
   "outputs": [
    {
     "data": {
      "text/plain": [
       "Text(0, 0.5, 'Freq Density')"
      ]
     },
     "execution_count": 123,
     "metadata": {},
     "output_type": "execute_result"
    },
    {
     "data": {
      "image/png": "[encoded data removed]",
      "text/plain": [
       "<Figure size 432x288 with 1 Axes>"
      ]
     },
     "metadata": {},
     "output_type": "display_data"
    }
   ],
   "source": [
    "plt.hist(pos_ngram_scores, label='Positive four-gram', density=True)\n",
    "plt.hist(neg_ngram_scores, label='Negative four-gram', density=True)\n",
    "plt.grid(linestyle='-.')\n",
    "plt.legend()\n",
    "plt.xlabel('Polarity Score')\n",
    "plt.ylabel('Freq Density')\n",
    "#plt.savefig(\"imgs/sst_4gram_polarity_score_gru.pdf\", bbox_inches='tight', dpi=900)"
   ]
  },
  {
   "cell_type": "code",
   "execution_count": 64,
   "metadata": {},
   "outputs": [
    {
     "data": {
      "text/plain": [
       "0.024874087423086166"
      ]
     },
     "execution_count": 64,
     "metadata": {},
     "output_type": "execute_result"
    }
   ],
   "source": [
    "ngram = [16, 9, 39]\n",
    "ngram_score = get_phrase_polarity(ngram)\n",
    "ngram_score.item()"
   ]
  },
  {
   "cell_type": "markdown",
   "metadata": {
    "colab_type": "text",
    "id": "RuXWeGUICyO2"
   },
   "source": [
    "## Statistics\n",
    "Let us do an experiment, check whether the labels have strong relationship with certain words like the sentiment indicator \"good\", \"bad\""
   ]
  },
  {
   "cell_type": "code",
   "execution_count": 45,
   "metadata": {
    "colab": {},
    "colab_type": "code",
    "id": "fgv4qVlYCyO2"
   },
   "outputs": [],
   "source": [
    "texts, labels = zip(*train_dg.data_batch)\n",
    "text_length = [len(t) for t in texts]"
   ]
  },
  {
   "cell_type": "code",
   "execution_count": 46,
   "metadata": {
    "colab": {},
    "colab_type": "code",
    "id": "2CRTATPWCyO4"
   },
   "outputs": [],
   "source": [
    "texts2, labels2 = zip(*dev_dg.data_batch)\n",
    "text_length2 = [len(t) for t in texts2]"
   ]
  },
  {
   "cell_type": "code",
   "execution_count": 47,
   "metadata": {
    "colab": {},
    "colab_type": "code",
    "id": "kCJdH7v3CyO7"
   },
   "outputs": [],
   "source": [
    "texts3, labels3 = zip(*test_dg.data_batch)\n",
    "text_length3 = [len(t) for t in texts3]"
   ]
  },
  {
   "cell_type": "code",
   "execution_count": 48,
   "metadata": {
    "colab": {},
    "colab_type": "code",
    "id": "pV0bZn6pCyPL"
   },
   "outputs": [],
   "source": [
    "#Calculate the times that a token appears in a specified label"
   ]
  },
  {
   "cell_type": "code",
   "execution_count": 49,
   "metadata": {
    "colab": {},
    "colab_type": "code",
    "id": "YpVb053gCyPO"
   },
   "outputs": [],
   "source": [
    "word_label_pair = []\n",
    "word_doc_freq = {}\n",
    "vocab = []\n",
    "for i, text in enumerate(texts):\n",
    "    for w in text:\n",
    "        word_doc_freq[w] = word_doc_freq.get(w, 0) + 1\n",
    "        \n",
    "for i, text in enumerate(texts):\n",
    "    label = labels[i]\n",
    "    for w in text:\n",
    "        word_doc_freq[w] = word_doc_freq.get(w, 0) + 1\n",
    "    word_label_pair += [(id2word[item], label) for item in text]\n",
    "    vocab += [id2word[item] for item in text]\n",
    "vocab = set(vocab)"
   ]
  },
  {
   "cell_type": "code",
   "execution_count": 51,
   "metadata": {
    "colab": {},
    "colab_type": "code",
    "id": "9E9bMJSBCyPS"
   },
   "outputs": [],
   "source": [
    "word_label_pair_freq = Counter(word_label_pair)\n",
    "#Get the ratio, a word appears in positive sentences: a word appears in negative sentences\n",
    "token_freq_pos = {}\n",
    "token_freq_neg = {}\n",
    "type0_tokens = []\n",
    "type1_tokens = []\n",
    "type2_tokens = []\n",
    "neutral_tokens = []\n",
    "total_diff_freq = 0\n",
    "#Note here, 1 means positive and 0 means negative\n",
    "for w in vocab:\n",
    "    freq_2 = word_label_pair_freq[(w, 2)]\n",
    "    freq_1 = word_label_pair_freq[(w, 1)]\n",
    "    freq_0 = word_label_pair_freq[(w, 0)]\n",
    "    total = freq_1+freq_2+freq_0\n",
    "    if total == 0:\n",
    "        continue\n",
    "    if freq_2/total>2/3:\n",
    "        type2_tokens.append(w)\n",
    "    if freq_1/total>2/3:\n",
    "        type1_tokens.append(w)\n",
    "    if freq_0/total>2/3:\n",
    "        type0_tokens.append(w)\n"
   ]
  },
  {
   "cell_type": "code",
   "execution_count": 180,
   "metadata": {},
   "outputs": [],
   "source": [
    "#print(neutral_tokens)"
   ]
  },
  {
   "cell_type": "code",
   "execution_count": 53,
   "metadata": {},
   "outputs": [],
   "source": [
    "from textblob import TextBlob\n",
    "pos_tokens_selected = []\n",
    "neg_tokens_selected = []\n",
    "for w in type2_tokens:\n",
    "    s = TextBlob(w)\n",
    "    if len(s.tags) == 0:\n",
    "        continue\n",
    "    if s.polarity>0.2 and s.tags[0][1]=='JJ':\n",
    "        pos_tokens_selected.append(w)\n",
    "for w in type0_tokens:\n",
    "    s = TextBlob(w)\n",
    "    if len(s.tags) == 0:\n",
    "        continue\n",
    "    if s.polarity<-0.2 and s.tags[0][1]=='JJ':\n",
    "        neg_tokens_selected.append(w)        "
   ]
  },
  {
   "cell_type": "code",
   "execution_count": 56,
   "metadata": {
    "colab": {},
    "colab_type": "code",
    "id": "-sK28pJhCyPd"
   },
   "outputs": [],
   "source": [
    "# pos_tokens_index = [word2id[w] for w in pos_tokens]\n",
    "# neg_tokens_index = [word2id[w] for w in neg_tokens]\n",
    "# neutral_tokens_index = [word2id[w] for w in neutral_tokens]\n",
    "# pos_tokens_index_label1 = [token_freq_pos[w] for w in pos_tokens_index]\n",
    "# pos_tokens_index_label0 = [token_freq_neg[w] for w in pos_tokens_index]\n",
    "# pos_tokens_index_diff = [token_freq_pos[w]-token_freq_neg[w] for w in pos_tokens_index]\n",
    "\n",
    "# neg_tokens_index_label1 = [token_freq_pos[w] for w in pos_tokens_index]\n",
    "# neg_tokens_index_label0 = [token_freq_neg[w] for w in pos_tokens_index]\n",
    "# neg_tokens_index_diff = [token_freq_pos[w]-token_freq_neg[w] for w in neg_tokens_index]"
   ]
  },
  {
   "cell_type": "markdown",
   "metadata": {},
   "source": [
    "## Visualization Negating Adjectives"
   ]
  },
  {
   "cell_type": "code",
   "execution_count": 78,
   "metadata": {},
   "outputs": [],
   "source": [
    "hidden_dim = 300\n",
    "pos_token_ps = []\n",
    "negation_pos_token_ps = []\n",
    "neg_token_ps = []\n",
    "negation_neg_token_ps = []\n",
    "negation_id = word2id['not']\n",
    "for w in pos_tokens_selected:\n",
    "    bigram = [negation_id] + [word2id[w]]\n",
    "    score1 = gru_phrase_polarity_multi([word2id[w]], best_model, hidden_dim)\n",
    "    score2 = gru_phrase_polarity_multi(bigram, best_model, hidden_dim)\n",
    "    pos_token_ps.append(score1)\n",
    "    negation_pos_token_ps.append(score2)\n",
    "for w in neg_tokens_selected:\n",
    "    bigram = [negation_id] + [word2id[w]]\n",
    "    score1 = gru_phrase_polarity_multi([word2id[w]], best_model, hidden_dim)\n",
    "    score2 = gru_phrase_polarity_multi(bigram, best_model, hidden_dim)\n",
    "    neg_token_ps.append(score1)\n",
    "    negation_neg_token_ps.append(score2)"
   ]
  },
  {
   "cell_type": "code",
   "execution_count": 79,
   "metadata": {},
   "outputs": [],
   "source": [
    "pos_token_ps = torch.stack(pos_token_ps).detach().cpu().numpy()\n",
    "neg_token_ps = torch.stack(neg_token_ps).detach().cpu().numpy()\n",
    "negation_pos_token_ps = torch.stack(negation_pos_token_ps).detach().cpu().numpy()\n",
    "negation_neg_token_ps = torch.stack(negation_neg_token_ps).detach().cpu().numpy()"
   ]
  },
  {
   "cell_type": "code",
   "execution_count": 81,
   "metadata": {},
   "outputs": [
    {
     "data": {
      "text/plain": [
       "{'whiskers': [<matplotlib.lines.Line2D at 0x7f2c140eac10>,\n",
       "  <matplotlib.lines.Line2D at 0x7f2c140ea490>,\n",
       "  <matplotlib.lines.Line2D at 0x7f2c140ea610>,\n",
       "  <matplotlib.lines.Line2D at 0x7f2c140e7290>,\n",
       "  <matplotlib.lines.Line2D at 0x7f2c140de890>,\n",
       "  <matplotlib.lines.Line2D at 0x7f2c140de2d0>],\n",
       " 'caps': [<matplotlib.lines.Line2D at 0x7f2c140ebe50>,\n",
       "  <matplotlib.lines.Line2D at 0x7f2c140e8690>,\n",
       "  <matplotlib.lines.Line2D at 0x7f2c140e7fd0>,\n",
       "  <matplotlib.lines.Line2D at 0x7f2c140e1590>,\n",
       "  <matplotlib.lines.Line2D at 0x7f2c140de210>,\n",
       "  <matplotlib.lines.Line2D at 0x7f2c140db550>],\n",
       " 'boxes': [<matplotlib.lines.Line2D at 0x7f2c140ebe90>,\n",
       "  <matplotlib.lines.Line2D at 0x7f2c140e7110>,\n",
       "  <matplotlib.lines.Line2D at 0x7f2c140e1650>],\n",
       " 'medians': [<matplotlib.lines.Line2D at 0x7f2c140e8750>,\n",
       "  <matplotlib.lines.Line2D at 0x7f2c140e2410>,\n",
       "  <matplotlib.lines.Line2D at 0x7f2c140db3d0>],\n",
       " 'fliers': [<matplotlib.lines.Line2D at 0x7f2c140e7910>,\n",
       "  <matplotlib.lines.Line2D at 0x7f2c140df6d0>,\n",
       "  <matplotlib.lines.Line2D at 0x7f2c140d87d0>],\n",
       " 'means': []}"
      ]
     },
     "execution_count": 81,
     "metadata": {},
     "output_type": "execute_result"
    },
    {
     "data": {
      "image/png": "[encoded data removed]",
      "text/plain": [
       "<Figure size 432x288 with 1 Axes>"
      ]
     },
     "metadata": {
      "needs_background": "light"
     },
     "output_type": "display_data"
    }
   ],
   "source": [
    "plt.boxplot([negation_neg_token_ps[:, 0], negation_neg_token_ps[:, 1], negation_neg_token_ps[:, 2]])"
   ]
  },
  {
   "cell_type": "code",
   "execution_count": 188,
   "metadata": {},
   "outputs": [
    {
     "data": {
      "text/plain": [
       "[<matplotlib.lines.Line2D at 0x7fd2ec8842d0>]"
      ]
     },
     "execution_count": 188,
     "metadata": {},
     "output_type": "execute_result"
    },
    {
     "data": {
      "image/png": "[encoded data removed]",
      "text/plain": [
       "<Figure size 432x288 with 1 Axes>"
      ]
     },
     "metadata": {},
     "output_type": "display_data"
    }
   ],
   "source": [
    "plt.style.use('Solarize_Light2')\n",
    "_ = plt.boxplot([pos_token_ps, negation_pos_token_ps, neg_token_ps, negation_neg_token_ps], patch_artist=True, labels=['pos', 'pos-negation', 'neg', 'neg-negation'])\n",
    "plt.ylabel('Polarity Score')\n",
    "plt.plot([0.5, 4.5], [0, 0], linestyle='--')\n",
    "# _ = plt.boxplot([pos_token_ps, negation_pos_token_ps], patch_artist=True)\n",
    "#plt.savefig(\"imgs/mr_gru_polarity_score_negate_adjective.pdf\", bbox_inches='tight', dpi=900)"
   ]
  },
  {
   "cell_type": "markdown",
   "metadata": {},
   "source": [
    "## Visualizing Examples"
   ]
  },
  {
   "cell_type": "code",
   "execution_count": 93,
   "metadata": {},
   "outputs": [],
   "source": [
    "hidden_dim = 300\n",
    "# sent = \"not to be dismissed\".split()\n",
    "# sent = \"the movie is hardly a masterpiece\".split()\n",
    "\n",
    "sent = \"hardly an objective documentary\".split()\n",
    "# sent = \"never loses its ability to shock and amaze .\".split()\n",
    "# sent = \"not always a narratively cohesive one .\".split()\n",
    "#sent = \"hardly a film that comes along every day .\".split()\n",
    "# sent = \"never achieve the popularity of my big fat greek wedding\".split()\n",
    "#sent = \"never rises to its full potential as a film\".split()\n",
    "#sent = \"never succeed in really rattling the viewer\".split()\n",
    "# sent = \"hardly seems worth the effort .\".split()\n",
    "# sent = \"does n t add up to much\".split()\n",
    "#sent = \"hardly the most original fantasy film ever made\".split()\n",
    "#sent = \"does n't wrap the proceedings up neatly\".split()\n",
    "#sent = \"does n't completely survive its tonal transformation from dark comedy to suspense thriller\".split()\n",
    "\n",
    "\n",
    "sent = \"never fails to fascinate\".split()\n",
    "# sent = 'hardly seems worth the effort'.split()\n",
    "#sent = 'not in a good way'.split()\n",
    "#sent = \"what antwone fisher is n't , however , is original\".split()\n",
    "#sent = \"however , is original\".split()\n",
    "#sent = \"holds its goodwill close , but is relatively slow to come to the point\".split()\n",
    "#sent = \"it 's never boring\".split()\n",
    "#sent = \"same song , second verse , coulda been better , but it coulda been worse\".split()\n",
    "#sent = \"want nothing else than to show us a good time\".split()\n",
    "#sent_example = 'this is possibly not horrible'.split()\n",
    "lengths =  torch.LongTensor([len(sent)]).to(device)\n",
    "sent_example = [word2id[w] for w in sent]"
   ]
  },
  {
   "cell_type": "code",
   "execution_count": 94,
   "metadata": {},
   "outputs": [],
   "source": [
    "polarity_score = []\n",
    "for i in range(len(sent_example)):\n",
    "    temp = rnn_phrase_polarity_new(sent_example[i:], best_model, hidden_dim)\n",
    "    polarity_score.append(temp)\n",
    "polarity_score.reverse()"
   ]
  },
  {
   "cell_type": "code",
   "execution_count": 95,
   "metadata": {},
   "outputs": [
    {
     "data": {
      "image/png": "[encoded data removed]",
      "text/plain": [
       "<Figure size 576x230.4 with 1 Axes>"
      ]
     },
     "metadata": {},
     "output_type": "display_data"
    }
   ],
   "source": [
    "import matplotlib.patches as patches\n",
    "index = len(sent)-1\n",
    "temp = polarity_score#s[index]\n",
    "#plt.style.use('ggplot')\n",
    "plt.figure(figsize=(8, 3.2))\n",
    "plt.xlim(-1, index+1) \n",
    "plt.ylim(0, 1.0) \n",
    "plt.xticks(range(index+1), sent, rotation=0) \n",
    "\n",
    "style = \"Simple, tail_width=2, head_width=8, head_length=12\"\n",
    "\n",
    "\n",
    "for i in range(len(sent)):\n",
    "#     if i == 1:\n",
    "#         continue\n",
    "#     if i == 3:\n",
    "#         continue\n",
    "    if temp[i]>0:\n",
    "        kw = dict(arrowstyle=style, color=\"b\")\n",
    "    else:\n",
    "        kw = dict(arrowstyle=style, color=\"r\")\n",
    "    a = patches.FancyArrowPatch((index-i, 0.1), (index, 0.1+0.05*i),\n",
    "                                 connectionstyle=\"arc3,rad=-0.7\", **kw)\n",
    "\n",
    "    plt.gca().add_patch(a)\n",
    "    if i == 0:\n",
    "        plt.text(index-i, 0.4+0.09*i, s=str(round(temp[i], 2)), fontsize=13)\n",
    "    else:\n",
    "        plt.text(index-i+0.1, 0.4+0.09*i, s=str(round(temp[i], 2)), fontsize=13)\n",
    "    \n",
    "circle = plt.Circle((len(sent)-1, 0.1), 0.1, color='b')\n",
    "plt.gca().add_patch(circle)\n",
    "plt.axis('equal')\n",
    "\n",
    "ax = plt.gca()\n",
    "# ax.axes.xaxis.set_visible(False)\n",
    "ax.axes.yaxis.set_visible(False)\n",
    "#plt.savefig(\"imgs/sst_gru_polarity_score_negation_example2_largefont.pdf\", bbox_inches='tight', dpi=900)"
   ]
  },
  {
   "cell_type": "code",
   "execution_count": null,
   "metadata": {},
   "outputs": [],
   "source": []
  }
 ],
 "metadata": {
  "colab": {
   "collapsed_sections": [
    "RuXWeGUICyO2",
    "ixc1hrcbCyP2",
    "x4iARfG-CyP8"
   ],
   "name": "rnn_approx_classification_analysis.ipynb",
   "provenance": []
  },
  "kernelspec": {
   "display_name": "Python 3",
   "language": "python",
   "name": "python3"
  },
  "language_info": {
   "codemirror_mode": {
    "name": "ipython",
    "version": 3
   },
   "file_extension": ".py",
   "mimetype": "text/x-python",
   "name": "python",
   "nbconvert_exporter": "python",
   "pygments_lexer": "ipython3",
   "version": "3.7.4"
  }
 },
 "nbformat": 4,
 "nbformat_minor": 1
}
